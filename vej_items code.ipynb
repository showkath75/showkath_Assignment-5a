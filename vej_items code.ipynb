{
 "cells": [
  {
   "cell_type": "code",
   "execution_count": 1,
   "id": "74c6c1af",
   "metadata": {},
   "outputs": [],
   "source": [
    "#create your best food items at least 10 with ratings \n",
    "dict2 = {\"vej_items\": [\"paneer curry\", \"ladyfingers_fry\", \"sambar\", \"dal\", \"mango pickle\", \"vej_pulav\", \"drumstick curry\", \"egg omlet\", \"butter nun\", \"butter masala\"], \"ratings\": [10/9, 10/8, 10/8, 10/7, 10/6, 10/9, 10/7, 10/8, 10/8, 10/10]}"
   ]
  },
  {
   "cell_type": "code",
   "execution_count": 2,
   "id": "1d4f658f",
   "metadata": {},
   "outputs": [
    {
     "name": "stdout",
     "output_type": "stream",
     "text": [
      "{'vej_items': ['paneer curry', 'ladyfingers_fry', 'sambar', 'dal', 'mango pickle', 'vej_pulav', 'drumstick curry', 'egg omlet', 'butter nun', 'butter masala'], 'ratings': [1.1111111111111112, 1.25, 1.25, 1.4285714285714286, 1.6666666666666667, 1.1111111111111112, 1.4285714285714286, 1.25, 1.25, 1.0]}\n"
     ]
    }
   ],
   "source": [
    "print (dict2)"
   ]
  }
 ],
 "metadata": {
  "kernelspec": {
   "display_name": "Python 3 (ipykernel)",
   "language": "python",
   "name": "python3"
  },
  "language_info": {
   "codemirror_mode": {
    "name": "ipython",
    "version": 3
   },
   "file_extension": ".py",
   "mimetype": "text/x-python",
   "name": "python",
   "nbconvert_exporter": "python",
   "pygments_lexer": "ipython3",
   "version": "3.10.9"
  }
 },
 "nbformat": 4,
 "nbformat_minor": 5
}
