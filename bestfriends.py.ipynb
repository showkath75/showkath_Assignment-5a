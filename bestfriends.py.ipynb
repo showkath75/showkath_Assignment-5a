{
 "cells": [
  {
   "cell_type": "code",
   "execution_count": 2,
   "id": "0354ddb1",
   "metadata": {},
   "outputs": [],
   "source": [
    "#Create a your friend names and their quality(at least 10 names)\n",
    "dict1 = {\"friends_names\": [\"Revanth\",\"sujith\", \"sai kiran\", \"prasad\", \"sunil\", \"ganesh\",\"naga sai\", \"sri ram\", \"mahesh\", \"venkat krishna\"], \"Quality\": [\"foodie\", \"intelligent\", \"handsome\", \"workaholic\", \"talk active\", \"rich ness\", \"caring\", \"cute\", \"funny\"]}"
   ]
  },
  {
   "cell_type": "code",
   "execution_count": 3,
   "id": "fcceea0f",
   "metadata": {},
   "outputs": [
    {
     "name": "stdout",
     "output_type": "stream",
     "text": [
      "{'friends_names': ['Revanth', 'sujith', 'sai kiran', 'prasad', 'sunil', 'ganesh', 'naga sai', 'sri ram', 'mahesh', 'venkat krishna'], 'Quality': ['foodie', 'intelligent', 'handsome', 'workaholic', 'talk active', 'rich ness', 'caring', 'cute', 'funny']}\n"
     ]
    }
   ],
   "source": [
    "print (dict1)"
   ]
  },
  {
   "cell_type": "code",
   "execution_count": 11,
   "id": "dddd2b0a",
   "metadata": {},
   "outputs": [
    {
     "data": {
      "text/plain": [
       "'sujith'"
      ]
     },
     "execution_count": 11,
     "metadata": {},
     "output_type": "execute_result"
    }
   ],
   "source": [
    "#My intelligent friend name is:\n",
    "dict1 [\"friends_names\"][1]"
   ]
  },
  {
   "cell_type": "code",
   "execution_count": 13,
   "id": "d06ccbe5",
   "metadata": {},
   "outputs": [
    {
     "data": {
      "text/plain": [
       "'sai kiran'"
      ]
     },
     "execution_count": 13,
     "metadata": {},
     "output_type": "execute_result"
    }
   ],
   "source": [
    "#My best friend name is:\n",
    "dict1 [\"friends_names\"][2]"
   ]
  }
 ],
 "metadata": {
  "kernelspec": {
   "display_name": "Python 3 (ipykernel)",
   "language": "python",
   "name": "python3"
  },
  "language_info": {
   "codemirror_mode": {
    "name": "ipython",
    "version": 3
   },
   "file_extension": ".py",
   "mimetype": "text/x-python",
   "name": "python",
   "nbconvert_exporter": "python",
   "pygments_lexer": "ipython3",
   "version": "3.10.9"
  }
 },
 "nbformat": 4,
 "nbformat_minor": 5
}
