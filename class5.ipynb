{
 "cells": [
  {
   "cell_type": "code",
   "execution_count": 49,
   "id": "44c89aa1",
   "metadata": {},
   "outputs": [
    {
     "name": "stdout",
     "output_type": "stream",
     "text": [
      "{'family_details': ['Shamsheer ali', 'habibun', 'Rahimani', 'Sajida', 'Waheedrabbani', 'Noorjahan', 'Mastan', 'Shabbir', 'vajida'], 'Relations': ['grand Father', 'grand mother', 'father', 'mother', 'brother', 'uncle', 'aunt', 'elder brother', 'elder brother', 'sister']}\n"
     ]
    }
   ],
   "source": [
    "my_dict =  {\"family_details\": [\"Shamsheer ali\",\"habibun\", \"Rahimani\", \"Sajida\",\"Waheed\" \"rabbani\",\"Noorjahan\",\"Mastan\", \"Shabbir\", \"vajida\",], \"Relations\": [\"grand Father\", \"grand mother\",\"father\", \"mother\", \"brother\", \"uncle\", \"aunt\", \"elder brother\", \"elder brother\", \"sister\"]}\n",
    "print (my_dict)"
   ]
  },
  {
   "cell_type": "code",
   "execution_count": 53,
   "id": "458db8fc",
   "metadata": {},
   "outputs": [
    {
     "data": {
      "text/plain": [
       "'Rahimani'"
      ]
     },
     "execution_count": 53,
     "metadata": {},
     "output_type": "execute_result"
    }
   ],
   "source": [
    "my_dict[\"family_details\"][2]"
   ]
  },
  {
   "cell_type": "code",
   "execution_count": 61,
   "id": "8865f257",
   "metadata": {},
   "outputs": [
    {
     "data": {
      "text/plain": [
       "['grand Father', 'grand mother', 'father', 'mother', 'brother']"
      ]
     },
     "execution_count": 61,
     "metadata": {},
     "output_type": "execute_result"
    }
   ],
   "source": [
    "my_dict [\"Relations\"][0:-5]"
   ]
  },
  {
   "cell_type": "code",
   "execution_count": 54,
   "id": "0a47f0e4",
   "metadata": {},
   "outputs": [
    {
     "name": "stdout",
     "output_type": "stream",
     "text": [
      "Mastan\n"
     ]
    }
   ],
   "source": [
    "print (my_dict[\"family_details\"][-3])"
   ]
  }
 ],
 "metadata": {
  "kernelspec": {
   "display_name": "Python 3 (ipykernel)",
   "language": "python",
   "name": "python3"
  },
  "language_info": {
   "codemirror_mode": {
    "name": "ipython",
    "version": 3
   },
   "file_extension": ".py",
   "mimetype": "text/x-python",
   "name": "python",
   "nbconvert_exporter": "python",
   "pygments_lexer": "ipython3",
   "version": "3.10.9"
  }
 },
 "nbformat": 4,
 "nbformat_minor": 5
}
