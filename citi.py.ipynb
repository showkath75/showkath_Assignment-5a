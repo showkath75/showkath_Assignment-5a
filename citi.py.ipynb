{
 "cells": [
  {
   "cell_type": "code",
   "execution_count": 1,
   "id": "78a59225",
   "metadata": {},
   "outputs": [],
   "source": [
    "my_dict = {\"destination\": [\"Visakhapatnam\", \"vijayawada\", \"machilipatnam\", \"guntur\", \"Nellore\", \"Bhimavaram\",  \"gudiwada\", \"Mangalagiri\", \"Elure\", \"Chittore\",\"Ongole\"], \"Rating\": [10,90,80,70,80,70,80,90,10,90]}"
   ]
  },
  {
   "cell_type": "code",
   "execution_count": 3,
   "id": "c751447a",
   "metadata": {},
   "outputs": [
    {
     "name": "stdout",
     "output_type": "stream",
     "text": [
      "{'destination': ['Visakhapatnam', 'vijayawada', 'machilipatnam', 'guntur', 'Nellore', 'Bhimavaram', 'gudiwada', 'Mangalagiri', 'Elure', 'Chittore', 'Ongole'], 'Rating': [10, 90, 80, 70, 80, 70, 80, 90, 10, 90]}\n"
     ]
    }
   ],
   "source": [
    "=0"
   ]
  },
  {
   "cell_type": "code",
   "execution_count": null,
   "id": "50c7b333",
   "metadata": {},
   "outputs": [],
   "source": []
  }
 ],
 "metadata": {
  "kernelspec": {
   "display_name": "Python 3 (ipykernel)",
   "language": "python",
   "name": "python3"
  },
  "language_info": {
   "codemirror_mode": {
    "name": "ipython",
    "version": 3
   },
   "file_extension": ".py",
   "mimetype": "text/x-python",
   "name": "python",
   "nbconvert_exporter": "python",
   "pygments_lexer": "ipython3",
   "version": "3.10.9"
  }
 },
 "nbformat": 4,
 "nbformat_minor": 5
}
